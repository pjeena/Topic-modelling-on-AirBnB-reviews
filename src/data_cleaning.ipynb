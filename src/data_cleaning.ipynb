{
 "cells": [
  {
   "cell_type": "code",
   "execution_count": 1,
   "metadata": {},
   "outputs": [
    {
     "name": "stderr",
     "output_type": "stream",
     "text": [
      "[nltk_data] Downloading package stopwords to\n",
      "[nltk_data]     /Users/piyush/nltk_data...\n",
      "[nltk_data]   Package stopwords is already up-to-date!\n"
     ]
    },
    {
     "data": {
      "text/plain": [
       "True"
      ]
     },
     "execution_count": 1,
     "metadata": {},
     "output_type": "execute_result"
    }
   ],
   "source": [
    "import pandas as pd\n",
    "import numpy as np\n",
    "import glob\n",
    "import os\n",
    "\n",
    "import nltk\n",
    "nltk.download('stopwords')"
   ]
  },
  {
   "cell_type": "code",
   "execution_count": 13,
   "metadata": {},
   "outputs": [],
   "source": [
    "df = pd.read_csv('../data/paris_reviews.csv')"
   ]
  },
  {
   "cell_type": "code",
   "execution_count": 3,
   "metadata": {},
   "outputs": [],
   "source": [
    "def remove_html_tags(text):\n",
    "    \"\"\"Remove html tags from a string\"\"\"\n",
    "    import re\n",
    "    clean = re.compile('<.*?>')\n",
    "    return re.sub(clean, '', text)\n",
    "\n",
    "\n",
    "def remove_urls(text):\n",
    "    \"\"\"Remove urls from a string\"\"\"\n",
    "    import re\n",
    "    return re.sub(r'http\\S+', '', text, flags=re.MULTILINE)\n"
   ]
  },
  {
   "cell_type": "code",
   "execution_count": 4,
   "metadata": {},
   "outputs": [],
   "source": [
    "df['comments'] = df['comments'].astype(str)\n",
    "df['comments'] = df['comments'].apply(remove_html_tags)\n",
    "df['comments'] = df['comments'].apply(remove_urls)\n",
    "df['date']= pd.to_datetime(df['date'])"
   ]
  },
  {
   "cell_type": "code",
   "execution_count": 5,
   "metadata": {},
   "outputs": [
    {
     "data": {
      "text/html": [
       "<div>\n",
       "<style scoped>\n",
       "    .dataframe tbody tr th:only-of-type {\n",
       "        vertical-align: middle;\n",
       "    }\n",
       "\n",
       "    .dataframe tbody tr th {\n",
       "        vertical-align: top;\n",
       "    }\n",
       "\n",
       "    .dataframe thead th {\n",
       "        text-align: right;\n",
       "    }\n",
       "</style>\n",
       "<table border=\"1\" class=\"dataframe\">\n",
       "  <thead>\n",
       "    <tr style=\"text-align: right;\">\n",
       "      <th></th>\n",
       "      <th>listing_id</th>\n",
       "      <th>id</th>\n",
       "      <th>date</th>\n",
       "      <th>reviewer_id</th>\n",
       "      <th>reviewer_name</th>\n",
       "      <th>comments</th>\n",
       "    </tr>\n",
       "  </thead>\n",
       "  <tbody>\n",
       "    <tr>\n",
       "      <th>0</th>\n",
       "      <td>5396</td>\n",
       "      <td>4824</td>\n",
       "      <td>2009-06-30</td>\n",
       "      <td>19995</td>\n",
       "      <td>Sarah</td>\n",
       "      <td>Perfect location!! Nasrine was a delight and m...</td>\n",
       "    </tr>\n",
       "    <tr>\n",
       "      <th>1</th>\n",
       "      <td>5396</td>\n",
       "      <td>4968</td>\n",
       "      <td>2009-07-03</td>\n",
       "      <td>20117</td>\n",
       "      <td>Chris</td>\n",
       "      <td>This is a nice place in a great location in Pa...</td>\n",
       "    </tr>\n",
       "    <tr>\n",
       "      <th>2</th>\n",
       "      <td>5396</td>\n",
       "      <td>5240</td>\n",
       "      <td>2009-07-08</td>\n",
       "      <td>22190</td>\n",
       "      <td>Annelaure</td>\n",
       "      <td>Nice studio, very clean, very quiet, in a grea...</td>\n",
       "    </tr>\n",
       "    <tr>\n",
       "      <th>3</th>\n",
       "      <td>5396</td>\n",
       "      <td>9619</td>\n",
       "      <td>2009-09-10</td>\n",
       "      <td>11947</td>\n",
       "      <td>Jean</td>\n",
       "      <td>Superb location, great studio. \\rA slice of Pa...</td>\n",
       "    </tr>\n",
       "    <tr>\n",
       "      <th>4</th>\n",
       "      <td>5396</td>\n",
       "      <td>18970</td>\n",
       "      <td>2009-12-02</td>\n",
       "      <td>40625</td>\n",
       "      <td>Bette</td>\n",
       "      <td>Perfect place to be in Paris, walking home eve...</td>\n",
       "    </tr>\n",
       "  </tbody>\n",
       "</table>\n",
       "</div>"
      ],
      "text/plain": [
       "   listing_id     id       date  reviewer_id reviewer_name  \\\n",
       "0        5396   4824 2009-06-30        19995         Sarah   \n",
       "1        5396   4968 2009-07-03        20117         Chris   \n",
       "2        5396   5240 2009-07-08        22190     Annelaure   \n",
       "3        5396   9619 2009-09-10        11947          Jean   \n",
       "4        5396  18970 2009-12-02        40625         Bette   \n",
       "\n",
       "                                            comments  \n",
       "0  Perfect location!! Nasrine was a delight and m...  \n",
       "1  This is a nice place in a great location in Pa...  \n",
       "2  Nice studio, very clean, very quiet, in a grea...  \n",
       "3  Superb location, great studio. \\rA slice of Pa...  \n",
       "4  Perfect place to be in Paris, walking home eve...  "
      ]
     },
     "execution_count": 5,
     "metadata": {},
     "output_type": "execute_result"
    }
   ],
   "source": [
    "df.head()"
   ]
  },
  {
   "cell_type": "code",
   "execution_count": 14,
   "metadata": {},
   "outputs": [],
   "source": [
    "df['date'] = pd.to_datetime(df.date)\n",
    "df['year'] = df['date'].dt.year"
   ]
  },
  {
   "cell_type": "code",
   "execution_count": 18,
   "metadata": {},
   "outputs": [
    {
     "data": {
      "text/plain": [
       "year\n",
       "2022    394577\n",
       "2019    220245\n",
       "2018    174277\n",
       "2021    161016\n",
       "2017    122830\n",
       "2020     83678\n",
       "2016     82636\n",
       "2023     77870\n",
       "2015     52798\n",
       "2014     23088\n",
       "2013      9167\n",
       "2012      3386\n",
       "2011      1031\n",
       "2010       240\n",
       "2009         6\n",
       "Name: count, dtype: int64"
      ]
     },
     "execution_count": 18,
     "metadata": {},
     "output_type": "execute_result"
    }
   ],
   "source": [
    "df.year.value_counts()"
   ]
  },
  {
   "cell_type": "code",
   "execution_count": 9,
   "metadata": {},
   "outputs": [],
   "source": [
    "df = df[df['year'].isin([2013,2014,2015,2016,2017,2018,2019,2020,2021,2022,2023])].reset_index(drop=True)"
   ]
  },
  {
   "cell_type": "code",
   "execution_count": 10,
   "metadata": {},
   "outputs": [
    {
     "data": {
      "text/plain": [
       "year\n",
       "2022    394577\n",
       "2019    220245\n",
       "2018    174277\n",
       "2021    161016\n",
       "2017    122830\n",
       "2020     83678\n",
       "2016     82636\n",
       "2023     77870\n",
       "2015     52798\n",
       "2014     23088\n",
       "2013      9167\n",
       "Name: count, dtype: int64"
      ]
     },
     "execution_count": 10,
     "metadata": {},
     "output_type": "execute_result"
    }
   ],
   "source": [
    "df.year.value_counts()"
   ]
  },
  {
   "cell_type": "code",
   "execution_count": 12,
   "metadata": {},
   "outputs": [
    {
     "data": {
      "text/html": [
       "<div>\n",
       "<style scoped>\n",
       "    .dataframe tbody tr th:only-of-type {\n",
       "        vertical-align: middle;\n",
       "    }\n",
       "\n",
       "    .dataframe tbody tr th {\n",
       "        vertical-align: top;\n",
       "    }\n",
       "\n",
       "    .dataframe thead th {\n",
       "        text-align: right;\n",
       "    }\n",
       "</style>\n",
       "<table border=\"1\" class=\"dataframe\">\n",
       "  <thead>\n",
       "    <tr style=\"text-align: right;\">\n",
       "      <th></th>\n",
       "      <th>listing_id</th>\n",
       "      <th>id</th>\n",
       "      <th>date</th>\n",
       "      <th>reviewer_id</th>\n",
       "      <th>reviewer_name</th>\n",
       "      <th>comments</th>\n",
       "      <th>year</th>\n",
       "    </tr>\n",
       "  </thead>\n",
       "  <tbody>\n",
       "    <tr>\n",
       "      <th>0</th>\n",
       "      <td>1268148</td>\n",
       "      <td>7258925</td>\n",
       "      <td>2013-09-13</td>\n",
       "      <td>8319657</td>\n",
       "      <td>Annia</td>\n",
       "      <td>Thank you Genia for a wonderful stay in Paris!...</td>\n",
       "      <td>2013</td>\n",
       "    </tr>\n",
       "    <tr>\n",
       "      <th>1</th>\n",
       "      <td>756756</td>\n",
       "      <td>5355316</td>\n",
       "      <td>2013-06-25</td>\n",
       "      <td>6909807</td>\n",
       "      <td>Freddy</td>\n",
       "      <td>It was our first time using a place from bnb a...</td>\n",
       "      <td>2013</td>\n",
       "    </tr>\n",
       "    <tr>\n",
       "      <th>2</th>\n",
       "      <td>408145</td>\n",
       "      <td>8256849</td>\n",
       "      <td>2013-10-22</td>\n",
       "      <td>712966</td>\n",
       "      <td>Kanako</td>\n",
       "      <td>My BF and I stayed at Christine's flat for 5 d...</td>\n",
       "      <td>2013</td>\n",
       "    </tr>\n",
       "    <tr>\n",
       "      <th>3</th>\n",
       "      <td>622120</td>\n",
       "      <td>8431809</td>\n",
       "      <td>2013-10-30</td>\n",
       "      <td>8890397</td>\n",
       "      <td>Vladimir</td>\n",
       "      <td>Very good location to explore the real Paris. ...</td>\n",
       "      <td>2013</td>\n",
       "    </tr>\n",
       "    <tr>\n",
       "      <th>4</th>\n",
       "      <td>746611</td>\n",
       "      <td>6389893</td>\n",
       "      <td>2013-08-11</td>\n",
       "      <td>5489294</td>\n",
       "      <td>Colin</td>\n",
       "      <td>First, the location can not be beat: quiet, up...</td>\n",
       "      <td>2013</td>\n",
       "    </tr>\n",
       "    <tr>\n",
       "      <th>...</th>\n",
       "      <td>...</td>\n",
       "      <td>...</td>\n",
       "      <td>...</td>\n",
       "      <td>...</td>\n",
       "      <td>...</td>\n",
       "      <td>...</td>\n",
       "      <td>...</td>\n",
       "    </tr>\n",
       "    <tr>\n",
       "      <th>54995</th>\n",
       "      <td>474725</td>\n",
       "      <td>794739605823497221</td>\n",
       "      <td>2023-01-01</td>\n",
       "      <td>25857797</td>\n",
       "      <td>Elijah</td>\n",
       "      <td>Overall my family of 5 (myself, wife, and 3 yo...</td>\n",
       "      <td>2023</td>\n",
       "    </tr>\n",
       "    <tr>\n",
       "      <th>54996</th>\n",
       "      <td>643341295891225983</td>\n",
       "      <td>823067169930095754</td>\n",
       "      <td>2023-02-09</td>\n",
       "      <td>464630702</td>\n",
       "      <td>Laëtitia</td>\n",
       "      <td>Excellent séjour, hôte très sympathique.</td>\n",
       "      <td>2023</td>\n",
       "    </tr>\n",
       "    <tr>\n",
       "      <th>54997</th>\n",
       "      <td>51415710</td>\n",
       "      <td>802000990527917011</td>\n",
       "      <td>2023-01-11</td>\n",
       "      <td>486080678</td>\n",
       "      <td>Stefano</td>\n",
       "      <td>Posizione ottima vicino la fermata della metro...</td>\n",
       "      <td>2023</td>\n",
       "    </tr>\n",
       "    <tr>\n",
       "      <th>54998</th>\n",
       "      <td>23959137</td>\n",
       "      <td>830975498237172235</td>\n",
       "      <td>2023-02-20</td>\n",
       "      <td>499087688</td>\n",
       "      <td>微信用户</td>\n",
       "      <td>棒极了</td>\n",
       "      <td>2023</td>\n",
       "    </tr>\n",
       "    <tr>\n",
       "      <th>54999</th>\n",
       "      <td>791139723144109327</td>\n",
       "      <td>818655391870484834</td>\n",
       "      <td>2023-02-03</td>\n",
       "      <td>144770851</td>\n",
       "      <td>Lorella</td>\n",
       "      <td>L'alloggio è come da descrizione e in ottima p...</td>\n",
       "      <td>2023</td>\n",
       "    </tr>\n",
       "  </tbody>\n",
       "</table>\n",
       "<p>55000 rows × 7 columns</p>\n",
       "</div>"
      ],
      "text/plain": [
       "               listing_id                  id       date  reviewer_id  \\\n",
       "0                 1268148             7258925 2013-09-13      8319657   \n",
       "1                  756756             5355316 2013-06-25      6909807   \n",
       "2                  408145             8256849 2013-10-22       712966   \n",
       "3                  622120             8431809 2013-10-30      8890397   \n",
       "4                  746611             6389893 2013-08-11      5489294   \n",
       "...                   ...                 ...        ...          ...   \n",
       "54995              474725  794739605823497221 2023-01-01     25857797   \n",
       "54996  643341295891225983  823067169930095754 2023-02-09    464630702   \n",
       "54997            51415710  802000990527917011 2023-01-11    486080678   \n",
       "54998            23959137  830975498237172235 2023-02-20    499087688   \n",
       "54999  791139723144109327  818655391870484834 2023-02-03    144770851   \n",
       "\n",
       "      reviewer_name                                           comments  year  \n",
       "0             Annia  Thank you Genia for a wonderful stay in Paris!...  2013  \n",
       "1            Freddy  It was our first time using a place from bnb a...  2013  \n",
       "2            Kanako  My BF and I stayed at Christine's flat for 5 d...  2013  \n",
       "3          Vladimir  Very good location to explore the real Paris. ...  2013  \n",
       "4             Colin  First, the location can not be beat: quiet, up...  2013  \n",
       "...             ...                                                ...   ...  \n",
       "54995        Elijah  Overall my family of 5 (myself, wife, and 3 yo...  2023  \n",
       "54996      Laëtitia           Excellent séjour, hôte très sympathique.  2023  \n",
       "54997       Stefano  Posizione ottima vicino la fermata della metro...  2023  \n",
       "54998          微信用户                                                棒极了  2023  \n",
       "54999       Lorella  L'alloggio è come da descrizione e in ottima p...  2023  \n",
       "\n",
       "[55000 rows x 7 columns]"
      ]
     },
     "execution_count": 12,
     "metadata": {},
     "output_type": "execute_result"
    }
   ],
   "source": [
    "df = df.groupby('year').apply(lambda x: x.sample(5000)).reset_index(drop=True)"
   ]
  },
  {
   "cell_type": "code",
   "execution_count": null,
   "metadata": {},
   "outputs": [],
   "source": []
  },
  {
   "cell_type": "code",
   "execution_count": null,
   "metadata": {},
   "outputs": [],
   "source": [
    "from spacy_langdetect import LanguageDetector\n",
    "import spacy\n",
    "nlp = spacy.load(\"en_core_web_sm\")\n",
    "nlp.add_pipe(LanguageDetector(), name='language_detector', last=True) #2\n",
    "text_content = \"Er lebt mit seinen Eltern und seiner Schwester in Berlin.\"\n",
    "doc = nlp(text_content) #3\n",
    "detect_language = doc._.language #4\n",
    "print(detect_language)"
   ]
  },
  {
   "cell_type": "code",
   "execution_count": null,
   "metadata": {},
   "outputs": [],
   "source": [
    "from spacy_langdetect import LanguageDetector\n",
    "import spacy\n",
    "nlp = spacy.load(\"en_core_web_sm\")"
   ]
  },
  {
   "cell_type": "code",
   "execution_count": null,
   "metadata": {},
   "outputs": [],
   "source": []
  },
  {
   "cell_type": "code",
   "execution_count": null,
   "metadata": {},
   "outputs": [],
   "source": []
  },
  {
   "cell_type": "code",
   "execution_count": null,
   "metadata": {},
   "outputs": [],
   "source": []
  },
  {
   "cell_type": "code",
   "execution_count": null,
   "metadata": {},
   "outputs": [],
   "source": [
    "df.listing_id.nunique()"
   ]
  },
  {
   "cell_type": "code",
   "execution_count": null,
   "metadata": {},
   "outputs": [],
   "source": [
    "test = df.groupby('listing_id')['comments'].apply(list).reset_index(name='new')\n",
    "docs = test['new'].apply(lambda x : \" \".join(x)).values"
   ]
  },
  {
   "cell_type": "code",
   "execution_count": null,
   "metadata": {},
   "outputs": [],
   "source": [
    "docs = test['new'].apply(lambda x : \" \".join(x)).values"
   ]
  },
  {
   "cell_type": "code",
   "execution_count": null,
   "metadata": {},
   "outputs": [],
   "source": [
    "df.head()"
   ]
  },
  {
   "cell_type": "code",
   "execution_count": null,
   "metadata": {},
   "outputs": [],
   "source": [
    "df.shape"
   ]
  },
  {
   "cell_type": "code",
   "execution_count": null,
   "metadata": {},
   "outputs": [],
   "source": [
    "test = df.groupby('listing_id')['comments'].apply(list).reset_index(name='new')\n",
    "docs = test['new'].apply(lambda x : \" \".join(x)).values"
   ]
  },
  {
   "cell_type": "code",
   "execution_count": null,
   "metadata": {},
   "outputs": [],
   "source": [
    "len(docs)"
   ]
  },
  {
   "cell_type": "code",
   "execution_count": null,
   "metadata": {},
   "outputs": [],
   "source": []
  },
  {
   "cell_type": "code",
   "execution_count": null,
   "metadata": {},
   "outputs": [],
   "source": []
  },
  {
   "cell_type": "code",
   "execution_count": null,
   "metadata": {},
   "outputs": [],
   "source": []
  },
  {
   "cell_type": "code",
   "execution_count": null,
   "metadata": {},
   "outputs": [],
   "source": []
  },
  {
   "cell_type": "code",
   "execution_count": null,
   "metadata": {},
   "outputs": [],
   "source": []
  },
  {
   "cell_type": "code",
   "execution_count": null,
   "metadata": {},
   "outputs": [],
   "source": []
  },
  {
   "cell_type": "code",
   "execution_count": null,
   "metadata": {},
   "outputs": [],
   "source": [
    "from bertopic import BERTopic\n",
    "from sklearn.datasets import fetch_20newsgroups\n",
    "\n",
    "docs = fetch_20newsgroups(subset='all',  remove=('headers', 'footers', 'quotes'))['data']\n",
    "\n",
    "\n"
   ]
  },
  {
   "cell_type": "code",
   "execution_count": null,
   "metadata": {},
   "outputs": [],
   "source": [
    "docs = docs[0:100]\n",
    "docs"
   ]
  },
  {
   "cell_type": "code",
   "execution_count": null,
   "metadata": {},
   "outputs": [],
   "source": [
    "\n",
    "topic_model = BERTopic()\n",
    "topics, probs = topic_model.fit_transform(docs)"
   ]
  },
  {
   "cell_type": "code",
   "execution_count": null,
   "metadata": {},
   "outputs": [],
   "source": [
    "topic_model = BERTopic().fit(docs)\n"
   ]
  },
  {
   "cell_type": "code",
   "execution_count": null,
   "metadata": {},
   "outputs": [],
   "source": [
    "embedding_model = \"sentence-transformers/all-MiniLM-L6-v2\"\n",
    "topic_model.save(\"model_dir\", serialization=\"safetensors\", save_ctfidf=True, save_embedding_model=embedding_model)\n",
    "\n",
    "\n"
   ]
  },
  {
   "cell_type": "code",
   "execution_count": null,
   "metadata": {},
   "outputs": [],
   "source": [
    "loaded_model = BERTopic.load(\"/Users/piyush/Desktop/dsml_Portfolio/new_project/model_dir\")\n"
   ]
  },
  {
   "cell_type": "code",
   "execution_count": null,
   "metadata": {},
   "outputs": [],
   "source": [
    "loaded_model"
   ]
  },
  {
   "cell_type": "code",
   "execution_count": null,
   "metadata": {},
   "outputs": [],
   "source": [
    "loaded_model.get_topic_info()"
   ]
  },
  {
   "cell_type": "code",
   "execution_count": null,
   "metadata": {},
   "outputs": [],
   "source": [
    "topics, probs = topic_model.fit_transform(docs)\n"
   ]
  },
  {
   "cell_type": "code",
   "execution_count": null,
   "metadata": {},
   "outputs": [],
   "source": [
    "probs"
   ]
  },
  {
   "cell_type": "code",
   "execution_count": null,
   "metadata": {},
   "outputs": [],
   "source": [
    "loaded_model.probabilities_"
   ]
  },
  {
   "cell_type": "code",
   "execution_count": null,
   "metadata": {},
   "outputs": [],
   "source": []
  }
 ],
 "metadata": {
  "kernelspec": {
   "display_name": "venv",
   "language": "python",
   "name": "python3"
  },
  "language_info": {
   "codemirror_mode": {
    "name": "ipython",
    "version": 3
   },
   "file_extension": ".py",
   "mimetype": "text/x-python",
   "name": "python",
   "nbconvert_exporter": "python",
   "pygments_lexer": "ipython3",
   "version": "3.11.3"
  },
  "orig_nbformat": 4
 },
 "nbformat": 4,
 "nbformat_minor": 2
}
