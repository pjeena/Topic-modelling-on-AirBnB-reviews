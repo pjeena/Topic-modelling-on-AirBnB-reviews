{
 "cells": [
  {
   "cell_type": "code",
   "execution_count": 9,
   "metadata": {},
   "outputs": [],
   "source": [
    "import pandas as pd\n",
    "import re\n",
    "import html\n",
    "\n",
    "\n",
    "def remove_html_tags(text):\n",
    "    \"\"\"Remove html tags from a text\"\"\"\n",
    "    clean = re.compile('<.*?>')\n",
    "    return re.sub(clean, '', text)\n",
    "\n",
    "\n",
    "def remove_urls(text):\n",
    "    \"\"\"Remove urls from a string\"\"\"\n",
    "    return re.sub(r'http\\S+', '', text, flags=re.MULTILINE)\n",
    "\n",
    "\n",
    "def lowercase(text):\n",
    "    \"\"\"Lowercase text\"\"\"\n",
    "    return text.lower()\n",
    "\n",
    "\n",
    "def preprocess_text(text):\n",
    "\n",
    "    # Remove HTML tags\n",
    "    text = remove_html_tags(text)\n",
    "\n",
    "    # Remove URLs\n",
    "    text = remove_urls(text)\n",
    "\n",
    "    # Convert text to lowercase\n",
    "    text = text.lower()\n",
    "\n",
    "    return text\n",
    "\n",
    "\n",
    "def process_parquet_file(input_parquet_file, output_parquet_file):\n",
    "    try:\n",
    "        # Read the Parquet file into a DataFrame\n",
    "        df = pd.read_parquet(input_parquet_file)\n",
    "\n",
    "        # Apply preprocessing to the text column\n",
    "        df['comments'] = df['comments'].astype(str)\n",
    "        df['comments'] = df['comments'].apply(preprocess_text)\n",
    "\n",
    "        # Convert date to datetime and extract year. We also consider reviews from 2013-2023 with 5000 reviews from each year.\n",
    "        df['date']= pd.to_datetime(df['date'])\n",
    "        df['year'] = df['date'].dt.year\n",
    "        df = df[df['year'].isin([2013,2014,2015,2016,2017,2018,2019,2020,2021,2022,2023])].reset_index(drop=True)\n",
    "        df = df.groupby('year').apply(lambda x: x.sample(5000,random_state=100)).reset_index(drop=True)\n",
    "\n",
    "        # Save the processed DataFrame as a new Parquet file\n",
    "        df.to_parquet(output_parquet_file, index=False)\n",
    "        print(f\"Processed data saved as Parquet file: {output_parquet_file}\")\n",
    "\n",
    "    except Exception as e:\n",
    "        raise Exception(f\"Error occurred during Parquet file processing: {e}\")\n",
    "    \n",
    "\n",
    "def main():\n",
    "    input_parquet_file = \"../data/paris_reviews.parquet\"\n",
    "    output_parquet_file = \"../data/paris_reviews_preprocessed.parquet\"\n",
    "\n",
    "    try:\n",
    "        # Process the Parquet file\n",
    "        process_parquet_file(input_parquet_file, output_parquet_file)\n",
    "    except Exception as e:\n",
    "        print(f\"Error occurred during data processing: {e}\")\n",
    "\n",
    "\n"
   ]
  },
  {
   "cell_type": "code",
   "execution_count": 2,
   "metadata": {},
   "outputs": [
    {
     "name": "stdout",
     "output_type": "stream",
     "text": [
      "Error occurred during data processing: Error occurred during Parquet file processing: expected string or bytes-like object, got 'NoneType'\n"
     ]
    }
   ],
   "source": [
    "if __name__ == \"__main__\":\n",
    "    main()"
   ]
  },
  {
   "cell_type": "code",
   "execution_count": 10,
   "metadata": {},
   "outputs": [],
   "source": [
    "input_parquet_file = \"../data/paris_reviews.parquet\""
   ]
  },
  {
   "cell_type": "code",
   "execution_count": 11,
   "metadata": {},
   "outputs": [],
   "source": [
    "df = pd.read_parquet(input_parquet_file)"
   ]
  },
  {
   "cell_type": "code",
   "execution_count": 12,
   "metadata": {},
   "outputs": [
    {
     "data": {
      "text/plain": [
       "(1406845, 6)"
      ]
     },
     "execution_count": 12,
     "metadata": {},
     "output_type": "execute_result"
    }
   ],
   "source": [
    "df.shape"
   ]
  },
  {
   "cell_type": "code",
   "execution_count": 13,
   "metadata": {},
   "outputs": [],
   "source": [
    "        # Apply preprocessing to the text column\n",
    "        df['comments'] = df['comments'].astype(str)\n",
    "        df['comments'] = df['comments'].apply(preprocess_text)\n",
    "\n",
    "        # Convert date to datetime and extract year. We also consider reviews from 2013-2023 with 5000 reviews from each year.\n",
    "        df['date']= pd.to_datetime(df['date'])\n",
    "        df['year'] = df['date'].dt.year\n",
    "        df = df[df['year'].isin([2013,2014,2015,2016,2017,2018,2019,2020,2021,2022,2023])].reset_index(drop=True)\n",
    "        df = df.groupby('year').apply(lambda x: x.sample(5000,random_state=100)).reset_index(drop=True)"
   ]
  },
  {
   "cell_type": "code",
   "execution_count": 14,
   "metadata": {},
   "outputs": [
    {
     "data": {
      "text/html": [
       "<div>\n",
       "<style scoped>\n",
       "    .dataframe tbody tr th:only-of-type {\n",
       "        vertical-align: middle;\n",
       "    }\n",
       "\n",
       "    .dataframe tbody tr th {\n",
       "        vertical-align: top;\n",
       "    }\n",
       "\n",
       "    .dataframe thead th {\n",
       "        text-align: right;\n",
       "    }\n",
       "</style>\n",
       "<table border=\"1\" class=\"dataframe\">\n",
       "  <thead>\n",
       "    <tr style=\"text-align: right;\">\n",
       "      <th></th>\n",
       "      <th>listing_id</th>\n",
       "      <th>id</th>\n",
       "      <th>date</th>\n",
       "      <th>reviewer_id</th>\n",
       "      <th>reviewer_name</th>\n",
       "      <th>comments</th>\n",
       "      <th>year</th>\n",
       "    </tr>\n",
       "  </thead>\n",
       "  <tbody>\n",
       "    <tr>\n",
       "      <th>0</th>\n",
       "      <td>599419</td>\n",
       "      <td>4592866</td>\n",
       "      <td>2013-05-14</td>\n",
       "      <td>5141358</td>\n",
       "      <td>Oksana</td>\n",
       "      <td>i booked lilian's apartment for my parents - t...</td>\n",
       "      <td>2013</td>\n",
       "    </tr>\n",
       "    <tr>\n",
       "      <th>1</th>\n",
       "      <td>1679711</td>\n",
       "      <td>8743133</td>\n",
       "      <td>2013-11-15</td>\n",
       "      <td>3674456</td>\n",
       "      <td>Wei Chian</td>\n",
       "      <td>it was a last minute reservation (day before) ...</td>\n",
       "      <td>2013</td>\n",
       "    </tr>\n",
       "    <tr>\n",
       "      <th>2</th>\n",
       "      <td>1780833</td>\n",
       "      <td>9186405</td>\n",
       "      <td>2013-12-11</td>\n",
       "      <td>1820498</td>\n",
       "      <td>Jeff</td>\n",
       "      <td>what a wonderful flat. well-located, perfectly...</td>\n",
       "      <td>2013</td>\n",
       "    </tr>\n",
       "    <tr>\n",
       "      <th>3</th>\n",
       "      <td>111270</td>\n",
       "      <td>5275567</td>\n",
       "      <td>2013-06-22</td>\n",
       "      <td>4801752</td>\n",
       "      <td>Juliane</td>\n",
       "      <td>we had a wonderful time at francois' place. th...</td>\n",
       "      <td>2013</td>\n",
       "    </tr>\n",
       "    <tr>\n",
       "      <th>4</th>\n",
       "      <td>874864</td>\n",
       "      <td>7792037</td>\n",
       "      <td>2013-10-03</td>\n",
       "      <td>8083127</td>\n",
       "      <td>Danny</td>\n",
       "      <td>audrey is a wonderful host and her apartment i...</td>\n",
       "      <td>2013</td>\n",
       "    </tr>\n",
       "    <tr>\n",
       "      <th>...</th>\n",
       "      <td>...</td>\n",
       "      <td>...</td>\n",
       "      <td>...</td>\n",
       "      <td>...</td>\n",
       "      <td>...</td>\n",
       "      <td>...</td>\n",
       "      <td>...</td>\n",
       "    </tr>\n",
       "    <tr>\n",
       "      <th>54995</th>\n",
       "      <td>607213527992148908</td>\n",
       "      <td>810015717863921137</td>\n",
       "      <td>2023-01-22</td>\n",
       "      <td>305984574</td>\n",
       "      <td>Myriam</td>\n",
       "      <td>merci pour votre accueil.</td>\n",
       "      <td>2023</td>\n",
       "    </tr>\n",
       "    <tr>\n",
       "      <th>54996</th>\n",
       "      <td>24538105</td>\n",
       "      <td>828061132627903355</td>\n",
       "      <td>2023-02-16</td>\n",
       "      <td>220718628</td>\n",
       "      <td>Renata</td>\n",
       "      <td>the stay was overall okay, get what we’ve paid...</td>\n",
       "      <td>2023</td>\n",
       "    </tr>\n",
       "    <tr>\n",
       "      <th>54997</th>\n",
       "      <td>54390678</td>\n",
       "      <td>815078458292521587</td>\n",
       "      <td>2023-01-29</td>\n",
       "      <td>326207448</td>\n",
       "      <td>Anna</td>\n",
       "      <td>a nice place to spend a few days in paris. jus...</td>\n",
       "      <td>2023</td>\n",
       "    </tr>\n",
       "    <tr>\n",
       "      <th>54998</th>\n",
       "      <td>25180580</td>\n",
       "      <td>795483123881965037</td>\n",
       "      <td>2023-01-02</td>\n",
       "      <td>191056209</td>\n",
       "      <td>Trin</td>\n",
       "      <td>guillaume is super wonderful host. we got a sh...</td>\n",
       "      <td>2023</td>\n",
       "    </tr>\n",
       "    <tr>\n",
       "      <th>54999</th>\n",
       "      <td>15899047</td>\n",
       "      <td>825271770236489368</td>\n",
       "      <td>2023-02-12</td>\n",
       "      <td>426634313</td>\n",
       "      <td>Lucas</td>\n",
       "      <td>ótimo</td>\n",
       "      <td>2023</td>\n",
       "    </tr>\n",
       "  </tbody>\n",
       "</table>\n",
       "<p>55000 rows × 7 columns</p>\n",
       "</div>"
      ],
      "text/plain": [
       "               listing_id                  id       date  reviewer_id  \\\n",
       "0                  599419             4592866 2013-05-14      5141358   \n",
       "1                 1679711             8743133 2013-11-15      3674456   \n",
       "2                 1780833             9186405 2013-12-11      1820498   \n",
       "3                  111270             5275567 2013-06-22      4801752   \n",
       "4                  874864             7792037 2013-10-03      8083127   \n",
       "...                   ...                 ...        ...          ...   \n",
       "54995  607213527992148908  810015717863921137 2023-01-22    305984574   \n",
       "54996            24538105  828061132627903355 2023-02-16    220718628   \n",
       "54997            54390678  815078458292521587 2023-01-29    326207448   \n",
       "54998            25180580  795483123881965037 2023-01-02    191056209   \n",
       "54999            15899047  825271770236489368 2023-02-12    426634313   \n",
       "\n",
       "      reviewer_name                                           comments  year  \n",
       "0            Oksana  i booked lilian's apartment for my parents - t...  2013  \n",
       "1         Wei Chian  it was a last minute reservation (day before) ...  2013  \n",
       "2              Jeff  what a wonderful flat. well-located, perfectly...  2013  \n",
       "3           Juliane  we had a wonderful time at francois' place. th...  2013  \n",
       "4             Danny  audrey is a wonderful host and her apartment i...  2013  \n",
       "...             ...                                                ...   ...  \n",
       "54995        Myriam                          merci pour votre accueil.  2023  \n",
       "54996        Renata  the stay was overall okay, get what we’ve paid...  2023  \n",
       "54997          Anna  a nice place to spend a few days in paris. jus...  2023  \n",
       "54998          Trin  guillaume is super wonderful host. we got a sh...  2023  \n",
       "54999         Lucas                                              ótimo  2023  \n",
       "\n",
       "[55000 rows x 7 columns]"
      ]
     },
     "execution_count": 14,
     "metadata": {},
     "output_type": "execute_result"
    }
   ],
   "source": [
    "df"
   ]
  },
  {
   "cell_type": "code",
   "execution_count": 15,
   "metadata": {},
   "outputs": [],
   "source": [
    "ee = pd.read_parquet('../data/paris_reviews_preprocessed.parquet')"
   ]
  },
  {
   "cell_type": "code",
   "execution_count": 17,
   "metadata": {},
   "outputs": [
    {
     "data": {
      "text/plain": [
       "year\n",
       "2013    5000\n",
       "2014    5000\n",
       "2015    5000\n",
       "2016    5000\n",
       "2017    5000\n",
       "2018    5000\n",
       "2019    5000\n",
       "2020    5000\n",
       "2021    5000\n",
       "2022    5000\n",
       "2023    5000\n",
       "Name: count, dtype: int64"
      ]
     },
     "execution_count": 17,
     "metadata": {},
     "output_type": "execute_result"
    }
   ],
   "source": [
    "ee.year.value_counts()"
   ]
  },
  {
   "cell_type": "code",
   "execution_count": null,
   "metadata": {},
   "outputs": [],
   "source": []
  }
 ],
 "metadata": {
  "kernelspec": {
   "display_name": "venv",
   "language": "python",
   "name": "python3"
  },
  "language_info": {
   "codemirror_mode": {
    "name": "ipython",
    "version": 3
   },
   "file_extension": ".py",
   "mimetype": "text/x-python",
   "name": "python",
   "nbconvert_exporter": "python",
   "pygments_lexer": "ipython3",
   "version": "3.11.3"
  },
  "orig_nbformat": 4
 },
 "nbformat": 4,
 "nbformat_minor": 2
}
